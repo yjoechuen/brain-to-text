{
 "cells": [
  {
   "cell_type": "code",
   "execution_count": null,
   "id": "0",
   "metadata": {},
   "outputs": [],
   "source": [
    "import os, h5py, re, numpy as np, pandas as pd\n",
    "import matplotlib.pyplot as plt\n",
    "from pathlib import Path\n",
    "\n",
    "plt.rcParams[\"figure.figsize\"] = (8, 4)\n",
    "plt.rcParams[\"axes.grid\"] = False"
   ]
  },
  {
   "cell_type": "code",
   "execution_count": null,
   "id": "1",
   "metadata": {},
   "outputs": [],
   "source": [
    "# ✏️ Update this to the file you want to analyze\n",
    "H5_PATH = Path(\"../data/hdf5_data_final/t15.2023.08.13/data_train.hdf5\")\n",
    "assert H5_PATH.exists(), f\"Not found: {H5_PATH}\"\n",
    "H5_PATH"
   ]
  },
  {
   "cell_type": "code",
   "execution_count": null,
   "id": "2",
   "metadata": {},
   "outputs": [],
   "source": [
    "rows = []\n",
    "with h5py.File(H5_PATH, \"r\") as f:\n",
    "    for trial_key in f.keys():\n",
    "        g = f[trial_key]\n",
    "    \n",
    "        input_features = g['input_features'][:]\n",
    "        n_time_steps = g.attrs['n_time_steps']\n",
    "        seq_class_ids = g['seq_class_ids'][:] if 'seq_class_ids' in g else None\n",
    "        seq_len = g.attrs['seq_len'] if 'seq_len' in g.attrs else None\n",
    "        transcription = g['transcription'][:] if 'transcription' in g else None\n",
    "        sentence_label = g.attrs['sentence_label'][:] if 'sentence_label' in g.attrs else None\n",
    "        session = g.attrs['session']\n",
    "        block_num = g.attrs['block_num']\n",
    "        trial_num = g.attrs['trial_num']\n",
    "\n",
    "        rows.append({\n",
    "            \"trial_key\": trial_key,\n",
    "            \"session\": session,\n",
    "            \"block_num\": block_num,\n",
    "            \"trial_num\": trial_num,\n",
    "            \"n_time_steps\": n_time_steps,\n",
    "            # \"seq_class_ids\": seq_class_ids, - byte array\n",
    "            \"seq_len\": seq_len,\n",
    "            # \"transcription\": transcription, - byte array\n",
    "            \"sentence_label\": sentence_label,\n",
    "            \"word_count\": len(sentence_label.split())\n",
    "        })\n",
    "\n",
    "df_trials = pd.DataFrame(rows)\n",
    "df_trials.head()"
   ]
  },
  {
   "cell_type": "code",
   "execution_count": null,
   "id": "3",
   "metadata": {},
   "outputs": [],
   "source": [
    "# Create additional columns\n",
    "df_trials[\"duration_sec\"] = df_trials[\"n_time_steps\"] * 0.02\n",
    "df_trials[\"char_count\"] = df_trials[\"sentence_label\"].str.len()"
   ]
  },
  {
   "cell_type": "code",
   "execution_count": null,
   "id": "4",
   "metadata": {},
   "outputs": [],
   "source": [
    "# Explore distributions\n",
    "\n",
    "import matplotlib.pyplot as plt\n",
    "\n",
    "fig, axes = plt.subplots(1, 3, figsize=(15,4))\n",
    "\n",
    "axes[0].hist(df_trials[\"duration_sec\"], bins=40)\n",
    "axes[0].set_title(\"Trial duration (seconds)\")\n",
    "\n",
    "axes[1].hist(df_trials[\"word_count\"], bins=30)\n",
    "axes[1].set_title(\"Sentence word counts\")\n",
    "\n",
    "axes[2].hist(df_trials[\"char_count\"], bins=30)\n",
    "axes[2].set_title(\"Sentence character counts\")\n",
    "\n",
    "plt.tight_layout()\n",
    "plt.show()"
   ]
  },
  {
   "cell_type": "code",
   "execution_count": null,
   "id": "5",
   "metadata": {},
   "outputs": [],
   "source": [
    "# Relationships between inputs and outputs\n",
    "plt.figure(figsize=(6,4))\n",
    "plt.scatter(df_trials[\"word_count\"], df_trials[\"duration_sec\"], alpha=0.5, s=10)\n",
    "plt.xlabel(\"Word count\")\n",
    "plt.ylabel(\"Trial duration (seconds)\")\n",
    "plt.title(\"Trial duration vs sentence length\")\n",
    "plt.show()"
   ]
  },
  {
   "cell_type": "code",
   "execution_count": null,
   "id": "6",
   "metadata": {},
   "outputs": [],
   "source": [
    "# Shortest / longest by duration\n",
    "print(\"Shortest trials:\")\n",
    "display(df_trials.nsmallest(5, \"duration_sec\")[[\"trial_key\",\"duration_sec\",\"sentence_label\"]])\n",
    "\n",
    "print(\"\\nLongest trials:\")\n",
    "display(df_trials.nlargest(5, \"duration_sec\")[[\"trial_key\",\"duration_sec\",\"sentence_label\"]])\n",
    "\n",
    "# Shortest / longest by word count\n",
    "print(\"Fewest words:\")\n",
    "display(df_trials.nsmallest(5, \"word_count\")[[\"trial_key\",\"word_count\",\"sentence_label\"]])\n",
    "\n",
    "print(\"\\nMost words:\")\n",
    "display(df_trials.nlargest(5, \"word_count\")[[\"trial_key\",\"word_count\",\"sentence_label\"]])\n",
    "\n",
    "# Shortest / longest by character count\n",
    "print(\"\\nFewest characters:\")\n",
    "display(df_trials.nsmallest(5, \"char_count\")[[\"trial_key\",\"char_count\",\"sentence_label\"]])\n",
    "\n",
    "print(\"\\nMost characters:\")\n",
    "display(df_trials.nlargest(5, \"char_count\")[[\"trial_key\",\"char_count\",\"sentence_label\"]])\n"
   ]
  },
  {
   "cell_type": "code",
   "execution_count": null,
   "id": "7",
   "metadata": {},
   "outputs": [],
   "source": [
    "# Sentence Content Correlation\n",
    "df_trials[[\"n_time_steps\",\"word_count\",\"char_count\"]].corr()"
   ]
  },
  {
   "cell_type": "code",
   "execution_count": null,
   "id": "8",
   "metadata": {},
   "outputs": [],
   "source": [
    "df_trials.groupby(\"block_num\")[\"duration_sec\"].mean().plot(kind=\"bar\", figsize=(8,4))\n",
    "plt.ylabel(\"Avg trial duration (s)\")\n",
    "plt.title(\"Average trial length by block\")\n",
    "plt.show()"
   ]
  },
  {
   "cell_type": "code",
   "execution_count": null,
   "id": "9",
   "metadata": {},
   "outputs": [],
   "source": []
  }
 ],
 "metadata": {
  "kernelspec": {
   "display_name": "Python 3 (ipykernel)",
   "language": "python",
   "name": "python3"
  },
  "language_info": {
   "codemirror_mode": {
    "name": "ipython",
    "version": 3
   },
   "file_extension": ".py",
   "mimetype": "text/x-python",
   "name": "python",
   "nbconvert_exporter": "python",
   "pygments_lexer": "ipython3",
   "version": "3.13.5"
  }
 },
 "nbformat": 4,
 "nbformat_minor": 5
}
