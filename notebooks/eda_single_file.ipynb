{
 "cells": [
  {
   "cell_type": "code",
   "execution_count": null,
   "id": "0",
   "metadata": {},
   "outputs": [],
   "source": [
    "# EDA: Single `data_train.hdf5` from t15.2023.08.13\n",
    "\n",
    "# Quick exploratory data analysis on one training file from the Brain-to-Text ’25 dataset:\n",
    "# - Load one HDF5 file\n",
    "# - Inspect shapes & metadata\n",
    "# - Split input features into Threshold Crossings (TC) and Spike-Band Power (SBP)\n",
    "# - Basic distributions, correlations, and a quick heatmap\n",
    "\n",
    "# > Note: This notebook expects a local file at `../data/hdf5_data_final/t15.2023.08.13/data_train.hdf5`."
   ]
  },
  {
   "cell_type": "code",
   "execution_count": null,
   "id": "1",
   "metadata": {},
   "outputs": [],
   "source": [
    "# Import and setup\n",
    "import os, h5py, numpy as np, matplotlib.pyplot as plt\n",
    "from collections import Counter\n",
    "\n",
    "plt.rcParams[\"figure.figsize\"] = (8, 4)\n",
    "np.set_printoptions(suppress=True, linewidth=120)"
   ]
  },
  {
   "cell_type": "code",
   "execution_count": null,
   "id": "2",
   "metadata": {},
   "outputs": [],
   "source": [
    "# Adjust this path for your local file\n",
    "H5_PATH = \"../data/hdf5_data_final/t15.2023.08.13/data_train.hdf5\"\n",
    "assert os.path.exists(H5_PATH), f\"File not found: {H5_PATH}\"\n",
    "H5_PATH"
   ]
  },
  {
   "cell_type": "code",
   "execution_count": null,
   "id": "3",
   "metadata": {},
   "outputs": [],
   "source": [
    "# Minimal loader\n",
    "def load_h5py_file(file_path):\n",
    "    out = {\n",
    "        \"neural_features\": [],  # (T, 512)\n",
    "        \"n_time_steps\": [],\n",
    "        \"seq_class_ids\": [],\n",
    "        \"seq_len\": [],\n",
    "        \"transcriptions\": [],\n",
    "        \"sentence_label\": [],\n",
    "        \"session\": [],\n",
    "        \"block_num\": [],\n",
    "        \"trial_num\": [],\n",
    "    }\n",
    "    with h5py.File(file_path, \"r\") as f:\n",
    "        for trial_key in f.keys():\n",
    "            g = f[trial_key]\n",
    "            out[\"neural_features\"].append(g[\"input_features\"][:])\n",
    "            out[\"n_time_steps\"].append(g.attrs[\"n_time_steps\"])\n",
    "            out[\"seq_class_ids\"].append(g[\"seq_class_ids\"][:] if \"seq_class_ids\" in g else None)\n",
    "            out[\"seq_len\"].append(g.attrs[\"seq_len\"] if \"seq_len\" in g.attrs else None)\n",
    "            out[\"transcriptions\"].append(g[\"transcription\"][:] if \"transcription\" in g else None)\n",
    "            out[\"sentence_label\"].append(g.attrs[\"sentence_label\"][:] if \"sentence_label\" in g.attrs else None)\n",
    "            out[\"session\"].append(g.attrs[\"session\"])\n",
    "            out[\"block_num\"].append(g.attrs[\"block_num\"])\n",
    "            out[\"trial_num\"].append(g.attrs[\"trial_num\"])\n",
    "    return out\n",
    "\n",
    "data = load_h5py_file(H5_PATH)\n",
    "len(data[\"neural_features\"])"
   ]
  },
  {
   "cell_type": "code",
   "execution_count": null,
   "id": "4",
   "metadata": {},
   "outputs": [],
   "source": [
    "# Basic analysis\n",
    "T_list = [arr.shape[0] for arr in data[\"neural_features\"]]\n",
    "feature_dims = set(arr.shape[1] for arr in data[\"neural_features\"])\n",
    "print(f\"Number of trials: {len(T_list)}\")\n",
    "print(f\"feature dims (should be 512): {feature_dims}\")\n",
    "print(f\"median T bins/trial: {int(np.median(T_list))} | min: {min(T_list)} | max: {max(T_list)}\")"
   ]
  },
  {
   "cell_type": "code",
   "execution_count": null,
   "id": "5",
   "metadata": {},
   "outputs": [],
   "source": [
    "trial_idx = 0  # change to inspect another trial\n",
    "X = data[\"neural_features\"][trial_idx]  # shape (T, 512)\n",
    "assert X.shape[1] == 512\n",
    "\n",
    "TC  = X[:, :256]   # integer-ish counts per 20ms\n",
    "SBP = X[:, 256:]   # continuous power\n",
    "\n",
    "X.shape, TC.shape, SBP.shape"
   ]
  },
  {
   "cell_type": "code",
   "execution_count": null,
   "id": "6",
   "metadata": {},
   "outputs": [],
   "source": [
    "chan = 0  # try a few, e.g., 0, 32, 128, 255\n",
    "fig, axes = plt.subplots(1, 2, figsize=(12, 4))\n",
    "axes[0].hist(TC[:, chan], bins=30)\n",
    "axes[0].set_title(f\"TC counts (channel {chan})\")\n",
    "axes[0].set_xlabel(\"count per 20 ms\"); axes[0].set_ylabel(\"frequency\")\n",
    "\n",
    "axes[1].hist(SBP[:, chan], bins=30)\n",
    "axes[1].set_title(f\"SBP values (channel {chan})\")\n",
    "axes[1].set_xlabel(\"power\"); axes[1].set_ylabel(\"frequency\")\n",
    "plt.show()"
   ]
  },
  {
   "cell_type": "code",
   "execution_count": null,
   "id": "7",
   "metadata": {},
   "outputs": [],
   "source": [
    "# correlation between TC and SBP for each electrode\n",
    "def corr_nan(a, b):\n",
    "    if a.std() == 0 or b.std() == 0: return np.nan\n",
    "    return np.corrcoef(a, b)[0,1]\n",
    "\n",
    "corrs = np.array([corr_nan(TC[:,i], SBP[:,i]) for i in range(256)])\n",
    "print(\"Per-channel TC↔SBP correlation:\")\n",
    "print(\"  mean:\", np.nanmean(corrs), \" | median:\", np.nanmedian(corrs))\n",
    "plt.plot(corrs, marker='.', linestyle='none')\n",
    "plt.title(\"TC↔SBP correlation per channel\")\n",
    "plt.xlabel(\"channel (0..255)\"); plt.ylabel(\"corr\")\n",
    "plt.show()"
   ]
  },
  {
   "cell_type": "code",
   "execution_count": null,
   "id": "8",
   "metadata": {},
   "outputs": [],
   "source": [
    "plt.figure(figsize=(10, 6))\n",
    "plt.imshow(X.T, aspect=\"auto\", origin=\"lower\")\n",
    "plt.title(\"Neural features heatmap (512 × T)\")\n",
    "plt.xlabel(\"time bins (20 ms)\"); plt.ylabel(\"feature index\")\n",
    "plt.colorbar(label=\"value\")\n",
    "plt.show()"
   ]
  },
  {
   "cell_type": "code",
   "execution_count": null,
   "id": "9",
   "metadata": {},
   "outputs": [],
   "source": [
    "seq = data[\"seq_class_ids\"][trial_idx]\n",
    "if seq is not None:\n",
    "    counts = Counter(seq.tolist())\n",
    "    top = counts.most_common(10)\n",
    "    print(\"Top 10 phoneme IDs in this trial:\", top)\n",
    "else:\n",
    "    print(\"No seq_class_ids available in this split/trial.\")"
   ]
  },
  {
   "cell_type": "code",
   "execution_count": null,
   "id": "10",
   "metadata": {},
   "outputs": [],
   "source": []
  }
 ],
 "metadata": {
  "kernelspec": {
   "display_name": "Python 3 (ipykernel)",
   "language": "python",
   "name": "python3"
  },
  "language_info": {
   "codemirror_mode": {
    "name": "ipython",
    "version": 3
   },
   "file_extension": ".py",
   "mimetype": "text/x-python",
   "name": "python",
   "nbconvert_exporter": "python",
   "pygments_lexer": "ipython3",
   "version": "3.13.5"
  }
 },
 "nbformat": 4,
 "nbformat_minor": 5
}
